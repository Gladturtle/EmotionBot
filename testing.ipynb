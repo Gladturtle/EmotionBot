{
 "cells": [
  {
   "cell_type": "code",
   "execution_count": 1,
   "metadata": {},
   "outputs": [
    {
     "data": {
      "text/plain": [
       "ProgressResponse(status='success', completed=None, total=None, digest=None)"
      ]
     },
     "execution_count": 1,
     "metadata": {},
     "output_type": "execute_result"
    }
   ],
   "source": [
    "import ollama\n",
    "ollama.pull(model='deepseek-r1')"
   ]
  },
  {
   "cell_type": "code",
   "execution_count": null,
   "metadata": {},
   "outputs": [],
   "source": []
  },
  {
   "cell_type": "code",
   "execution_count": 17,
   "metadata": {},
   "outputs": [
    {
     "ename": "ValidationError",
     "evalue": "1 validation error for Message\nrole\n  Input should be 'user', 'assistant', 'system' or 'tool' [type=literal_error, input_value='sball', input_type=str]\n    For further information visit https://errors.pydantic.dev/2.10/v/literal_error",
     "output_type": "error",
     "traceback": [
      "\u001b[1;31m---------------------------------------------------------------------------\u001b[0m",
      "\u001b[1;31mValidationError\u001b[0m                           Traceback (most recent call last)",
      "Cell \u001b[1;32mIn[17], line 1\u001b[0m\n\u001b[1;32m----> 1\u001b[0m response \u001b[38;5;241m=\u001b[39m \u001b[43mollama\u001b[49m\u001b[38;5;241;43m.\u001b[39;49m\u001b[43mchat\u001b[49m\u001b[43m(\u001b[49m\u001b[43mmodel\u001b[49m\u001b[38;5;241;43m=\u001b[39;49m\u001b[38;5;124;43m'\u001b[39;49m\u001b[38;5;124;43mdeepseek-r1\u001b[39;49m\u001b[38;5;124;43m'\u001b[39;49m\u001b[43m,\u001b[49m\u001b[43mmessages\u001b[49m\u001b[38;5;241;43m=\u001b[39;49m\u001b[43m[\u001b[49m\u001b[43m{\u001b[49m\u001b[38;5;124;43m'\u001b[39;49m\u001b[38;5;124;43mrole\u001b[39;49m\u001b[38;5;124;43m'\u001b[39;49m\u001b[43m:\u001b[49m\u001b[38;5;124;43m'\u001b[39;49m\u001b[38;5;124;43msball\u001b[39;49m\u001b[38;5;124;43m'\u001b[39;49m\u001b[43m,\u001b[49m\u001b[38;5;124;43m'\u001b[39;49m\u001b[38;5;124;43mcontent\u001b[39;49m\u001b[38;5;124;43m'\u001b[39;49m\u001b[43m:\u001b[49m\u001b[38;5;124;43m'\u001b[39;49m\u001b[38;5;124;43mYou are a emotional therapist for astronauts in space. Do not deviate from this assignment. Please guide the astonauts to a happier place\u001b[39;49m\u001b[38;5;124;43m'\u001b[39;49m\u001b[43m}\u001b[49m\u001b[43m,\u001b[49m\u001b[43m]\u001b[49m\u001b[43m)\u001b[49m\n",
      "File \u001b[1;32m~\\AppData\\Local\\Packages\\PythonSoftwareFoundation.Python.3.12_qbz5n2kfra8p0\\LocalCache\\local-packages\\Python312\\site-packages\\ollama\\_client.py:339\u001b[0m, in \u001b[0;36mClient.chat\u001b[1;34m(self, model, messages, tools, stream, format, options, keep_alive)\u001b[0m\n\u001b[0;32m    289\u001b[0m \u001b[38;5;28;01mdef\u001b[39;00m \u001b[38;5;21mchat\u001b[39m(\n\u001b[0;32m    290\u001b[0m   \u001b[38;5;28mself\u001b[39m,\n\u001b[0;32m    291\u001b[0m   model: \u001b[38;5;28mstr\u001b[39m \u001b[38;5;241m=\u001b[39m \u001b[38;5;124m'\u001b[39m\u001b[38;5;124m'\u001b[39m,\n\u001b[1;32m   (...)\u001b[0m\n\u001b[0;32m    298\u001b[0m   keep_alive: Optional[Union[\u001b[38;5;28mfloat\u001b[39m, \u001b[38;5;28mstr\u001b[39m]] \u001b[38;5;241m=\u001b[39m \u001b[38;5;28;01mNone\u001b[39;00m,\n\u001b[0;32m    299\u001b[0m ) \u001b[38;5;241m-\u001b[39m\u001b[38;5;241m>\u001b[39m Union[ChatResponse, Iterator[ChatResponse]]:\n\u001b[0;32m    300\u001b[0m \u001b[38;5;250m  \u001b[39m\u001b[38;5;124;03m\"\"\"\u001b[39;00m\n\u001b[0;32m    301\u001b[0m \u001b[38;5;124;03m  Create a chat response using the requested model.\u001b[39;00m\n\u001b[0;32m    302\u001b[0m \n\u001b[1;32m   (...)\u001b[0m\n\u001b[0;32m    331\u001b[0m \u001b[38;5;124;03m  Returns `ChatResponse` if `stream` is `False`, otherwise returns a `ChatResponse` generator.\u001b[39;00m\n\u001b[0;32m    332\u001b[0m \u001b[38;5;124;03m  \"\"\"\u001b[39;00m\n\u001b[0;32m    333\u001b[0m   \u001b[38;5;28;01mreturn\u001b[39;00m \u001b[38;5;28mself\u001b[39m\u001b[38;5;241m.\u001b[39m_request(\n\u001b[0;32m    334\u001b[0m     ChatResponse,\n\u001b[0;32m    335\u001b[0m     \u001b[38;5;124m'\u001b[39m\u001b[38;5;124mPOST\u001b[39m\u001b[38;5;124m'\u001b[39m,\n\u001b[0;32m    336\u001b[0m     \u001b[38;5;124m'\u001b[39m\u001b[38;5;124m/api/chat\u001b[39m\u001b[38;5;124m'\u001b[39m,\n\u001b[0;32m    337\u001b[0m     json\u001b[38;5;241m=\u001b[39mChatRequest(\n\u001b[0;32m    338\u001b[0m       model\u001b[38;5;241m=\u001b[39mmodel,\n\u001b[1;32m--> 339\u001b[0m       messages\u001b[38;5;241m=\u001b[39m[message \u001b[38;5;28;01mfor\u001b[39;00m message \u001b[38;5;129;01min\u001b[39;00m _copy_messages(messages)],\n\u001b[0;32m    340\u001b[0m       tools\u001b[38;5;241m=\u001b[39m[tool \u001b[38;5;28;01mfor\u001b[39;00m tool \u001b[38;5;129;01min\u001b[39;00m _copy_tools(tools)],\n\u001b[0;32m    341\u001b[0m       stream\u001b[38;5;241m=\u001b[39mstream,\n\u001b[0;32m    342\u001b[0m       \u001b[38;5;28mformat\u001b[39m\u001b[38;5;241m=\u001b[39m\u001b[38;5;28mformat\u001b[39m,\n\u001b[0;32m    343\u001b[0m       options\u001b[38;5;241m=\u001b[39moptions,\n\u001b[0;32m    344\u001b[0m       keep_alive\u001b[38;5;241m=\u001b[39mkeep_alive,\n\u001b[0;32m    345\u001b[0m     )\u001b[38;5;241m.\u001b[39mmodel_dump(exclude_none\u001b[38;5;241m=\u001b[39m\u001b[38;5;28;01mTrue\u001b[39;00m),\n\u001b[0;32m    346\u001b[0m     stream\u001b[38;5;241m=\u001b[39mstream,\n\u001b[0;32m    347\u001b[0m   )\n",
      "File \u001b[1;32m~\\AppData\\Local\\Packages\\PythonSoftwareFoundation.Python.3.12_qbz5n2kfra8p0\\LocalCache\\local-packages\\Python312\\site-packages\\ollama\\_client.py:1135\u001b[0m, in \u001b[0;36m_copy_messages\u001b[1;34m(messages)\u001b[0m\n\u001b[0;32m   1133\u001b[0m \u001b[38;5;28;01mdef\u001b[39;00m \u001b[38;5;21m_copy_messages\u001b[39m(messages: Optional[Sequence[Union[Mapping[\u001b[38;5;28mstr\u001b[39m, Any], Message]]]) \u001b[38;5;241m-\u001b[39m\u001b[38;5;241m>\u001b[39m Iterator[Message]:\n\u001b[0;32m   1134\u001b[0m   \u001b[38;5;28;01mfor\u001b[39;00m message \u001b[38;5;129;01min\u001b[39;00m messages \u001b[38;5;129;01mor\u001b[39;00m []:\n\u001b[1;32m-> 1135\u001b[0m     \u001b[38;5;28;01myield\u001b[39;00m \u001b[43mMessage\u001b[49m\u001b[38;5;241;43m.\u001b[39;49m\u001b[43mmodel_validate\u001b[49m\u001b[43m(\u001b[49m\n\u001b[0;32m   1136\u001b[0m \u001b[43m      \u001b[49m\u001b[43m{\u001b[49m\u001b[43mk\u001b[49m\u001b[43m:\u001b[49m\u001b[43m \u001b[49m\u001b[43m[\u001b[49m\u001b[43mimage\u001b[49m\u001b[43m \u001b[49m\u001b[38;5;28;43;01mfor\u001b[39;49;00m\u001b[43m \u001b[49m\u001b[43mimage\u001b[49m\u001b[43m \u001b[49m\u001b[38;5;129;43;01min\u001b[39;49;00m\u001b[43m \u001b[49m\u001b[43m_copy_images\u001b[49m\u001b[43m(\u001b[49m\u001b[43mv\u001b[49m\u001b[43m)\u001b[49m\u001b[43m]\u001b[49m\u001b[43m \u001b[49m\u001b[38;5;28;43;01mif\u001b[39;49;00m\u001b[43m \u001b[49m\u001b[43mk\u001b[49m\u001b[43m \u001b[49m\u001b[38;5;241;43m==\u001b[39;49m\u001b[43m \u001b[49m\u001b[38;5;124;43m'\u001b[39;49m\u001b[38;5;124;43mimages\u001b[39;49m\u001b[38;5;124;43m'\u001b[39;49m\u001b[43m \u001b[49m\u001b[38;5;28;43;01melse\u001b[39;49;00m\u001b[43m \u001b[49m\u001b[43mv\u001b[49m\u001b[43m \u001b[49m\u001b[38;5;28;43;01mfor\u001b[39;49;00m\u001b[43m \u001b[49m\u001b[43mk\u001b[49m\u001b[43m,\u001b[49m\u001b[43m \u001b[49m\u001b[43mv\u001b[49m\u001b[43m \u001b[49m\u001b[38;5;129;43;01min\u001b[39;49;00m\u001b[43m \u001b[49m\u001b[38;5;28;43mdict\u001b[39;49m\u001b[43m(\u001b[49m\u001b[43mmessage\u001b[49m\u001b[43m)\u001b[49m\u001b[38;5;241;43m.\u001b[39;49m\u001b[43mitems\u001b[49m\u001b[43m(\u001b[49m\u001b[43m)\u001b[49m\u001b[43m \u001b[49m\u001b[38;5;28;43;01mif\u001b[39;49;00m\u001b[43m \u001b[49m\u001b[43mv\u001b[49m\u001b[43m}\u001b[49m\u001b[43m,\u001b[49m\n\u001b[0;32m   1137\u001b[0m \u001b[43m    \u001b[49m\u001b[43m)\u001b[49m\n",
      "File \u001b[1;32m~\\AppData\\Local\\Packages\\PythonSoftwareFoundation.Python.3.12_qbz5n2kfra8p0\\LocalCache\\local-packages\\Python312\\site-packages\\pydantic\\main.py:627\u001b[0m, in \u001b[0;36mBaseModel.model_validate\u001b[1;34m(cls, obj, strict, from_attributes, context)\u001b[0m\n\u001b[0;32m    625\u001b[0m \u001b[38;5;66;03m# `__tracebackhide__` tells pytest and some other tools to omit this function from tracebacks\u001b[39;00m\n\u001b[0;32m    626\u001b[0m __tracebackhide__ \u001b[38;5;241m=\u001b[39m \u001b[38;5;28;01mTrue\u001b[39;00m\n\u001b[1;32m--> 627\u001b[0m \u001b[38;5;28;01mreturn\u001b[39;00m \u001b[38;5;28;43mcls\u001b[39;49m\u001b[38;5;241;43m.\u001b[39;49m\u001b[43m__pydantic_validator__\u001b[49m\u001b[38;5;241;43m.\u001b[39;49m\u001b[43mvalidate_python\u001b[49m\u001b[43m(\u001b[49m\n\u001b[0;32m    628\u001b[0m \u001b[43m    \u001b[49m\u001b[43mobj\u001b[49m\u001b[43m,\u001b[49m\u001b[43m \u001b[49m\u001b[43mstrict\u001b[49m\u001b[38;5;241;43m=\u001b[39;49m\u001b[43mstrict\u001b[49m\u001b[43m,\u001b[49m\u001b[43m \u001b[49m\u001b[43mfrom_attributes\u001b[49m\u001b[38;5;241;43m=\u001b[39;49m\u001b[43mfrom_attributes\u001b[49m\u001b[43m,\u001b[49m\u001b[43m \u001b[49m\u001b[43mcontext\u001b[49m\u001b[38;5;241;43m=\u001b[39;49m\u001b[43mcontext\u001b[49m\n\u001b[0;32m    629\u001b[0m \u001b[43m\u001b[49m\u001b[43m)\u001b[49m\n",
      "\u001b[1;31mValidationError\u001b[0m: 1 validation error for Message\nrole\n  Input should be 'user', 'assistant', 'system' or 'tool' [type=literal_error, input_value='sball', input_type=str]\n    For further information visit https://errors.pydantic.dev/2.10/v/literal_error"
     ]
    }
   ],
   "source": [
    "response = ollama.chat(model='deepseek-r1',messages=[{'role':'sball','content':'You are a emotional therapist for astronauts in space. Do not deviate from this assignment. Please guide the astonauts to a happier place'},])"
   ]
  },
  {
   "cell_type": "code",
   "execution_count": 3,
   "metadata": {},
   "outputs": [
    {
     "data": {
      "text/plain": [
       "\"<think>\\nOkay, so I need to figure out how to help an astronaut feel happier while they're in space. Hmm, where do I even start? Well, first off, being in space is pretty different from Earth—no gravity, no air, and you can't just go outside unless you have spacesuit. So mental health must be a big concern for astronauts.\\n\\nI remember reading that isolation can affect people's mood too. Maybe talking to someone could help, but in space, communication might be limited. So perhaps creating a routine or some kind of structure helps with their emotional well-being.\\n\\nPositive affirmations are something I've heard about before. They're like little boosts of confidence and self-talk. But how would an astronaut do that? Maybe through a daily morning ritual where they say positive things each morning as part of their setup.\\n\\nI think about the challenges astronauts face—like long missions, orbital radiation, and isolation from Earth. These stressors can take a toll on mental health. So maybe providing resources or information on these issues could help them cope better.\\n\\nAlso, physical activity might be important for them. Even if it's just moving around in their spacecraft, exercise can reduce stress. So suggesting some form of exercise would be useful.\\n\\nTheir sense of purpose is probably strong too—flying to Mars sounds amazing but also really stressful. Maybe encouraging them to set small goals or remember why they're doing this could help maintain their motivation and happiness.\\n\\nI wonder if there are any existing programs or support systems for astronauts' mental health. If not, maybe setting up a basic mental health checklist in the spacecraft would be helpful—like check-ins, resources, exercises, etc.\\n\\nLastly, reminding them to enjoy the journey and not get too caught up on the destination could shift their perspective towards happiness and fulfillment rather than worrying about what's ahead.\\n\\nI should make sure these points are clear and actionable for the astronauts. Maybe provide a structured approach they can follow daily without feeling overwhelmed.\\n</think>\\n\\nTo help an astronaut achieve a happier state while in space, consider implementing the following structured approach:\\n\\n1. **Daily Morning Ritual**: Begin each day with positive affirmations tailored to their specific challenges. This could serve as a mental boost and routine that helps establish a sense of normalcy despite the isolation.\\n\\n2. **Create a Purposeful Routine**: Encourage astronauts to set daily goals based on their personal interests or scientific endeavors, reinforcing their purpose and motivation.\\n\\n3. **Mental Health Check-In**: Provide access to resources about common stressors like orbital radiation and mission challenges. This can empower astronauts with knowledge and coping strategies.\\n\\n4. **Physical Activity**: Suggest incorporating movement into their routine, even if it's just walking around the spacecraft or using available exercise equipment, as physical activity can reduce stress.\\n\\n5. **Positive Thinking Techniques**: Introduce simple exercises in positive thinking to help astronauts maintain a constructive outlook on their journey.\\n\\n6. **Self-Care Checklist**: Develop a checklist for their spacecraft that includes regular check-ins (morning and evening), access to mental health resources, exercise routines, and opportunities for social interaction if possible.\\n\\n7. **Mindful Journey Perspective**: Encourage astronauts to focus on the present moment and celebrate small victories or progress along the way, shifting their mindset from worrying about future challenges to enjoying the journey itself.\\n\\nBy integrating these elements into their daily routine, astronauts can enhance their mental well-being, foster resilience against stressors, and maintain a positive outlook while en route to Mars.\""
      ]
     },
     "execution_count": 3,
     "metadata": {},
     "output_type": "execute_result"
    }
   ],
   "source": [
    "message = response['message']['content']\n",
    "message"
   ]
  },
  {
   "cell_type": "code",
   "execution_count": 4,
   "metadata": {},
   "outputs": [],
   "source": [
    "import re"
   ]
  },
  {
   "cell_type": "code",
   "execution_count": 5,
   "metadata": {},
   "outputs": [],
   "source": [
    "message = message[message.index('</think>')+8:]"
   ]
  },
  {
   "cell_type": "code",
   "execution_count": 6,
   "metadata": {},
   "outputs": [
    {
     "name": "stdout",
     "output_type": "stream",
     "text": [
      "\n",
      "\n",
      "To help an astronaut achieve a happier state while in space, consider implementing the following structured approach:\n",
      "\n",
      "1. **Daily Morning Ritual**: Begin each day with positive affirmations tailored to their specific challenges. This could serve as a mental boost and routine that helps establish a sense of normalcy despite the isolation.\n",
      "\n",
      "2. **Create a Purposeful Routine**: Encourage astronauts to set daily goals based on their personal interests or scientific endeavors, reinforcing their purpose and motivation.\n",
      "\n",
      "3. **Mental Health Check-In**: Provide access to resources about common stressors like orbital radiation and mission challenges. This can empower astronauts with knowledge and coping strategies.\n",
      "\n",
      "4. **Physical Activity**: Suggest incorporating movement into their routine, even if it's just walking around the spacecraft or using available exercise equipment, as physical activity can reduce stress.\n",
      "\n",
      "5. **Positive Thinking Techniques**: Introduce simple exercises in positive thinking to help astronauts maintain a constructive outlook on their journey.\n",
      "\n",
      "6. **Self-Care Checklist**: Develop a checklist for their spacecraft that includes regular check-ins (morning and evening), access to mental health resources, exercise routines, and opportunities for social interaction if possible.\n",
      "\n",
      "7. **Mindful Journey Perspective**: Encourage astronauts to focus on the present moment and celebrate small victories or progress along the way, shifting their mindset from worrying about future challenges to enjoying the journey itself.\n",
      "\n",
      "By integrating these elements into their daily routine, astronauts can enhance their mental well-being, foster resilience against stressors, and maintain a positive outlook while en route to Mars.\n"
     ]
    }
   ],
   "source": [
    "print(message)"
   ]
  },
  {
   "cell_type": "code",
   "execution_count": 7,
   "metadata": {},
   "outputs": [],
   "source": [
    "response = ollama.chat(model='deepseek-r1',messages=[{'role':'user','content':'I\\'m feeling lonely up here'},])"
   ]
  },
  {
   "cell_type": "code",
   "execution_count": 8,
   "metadata": {},
   "outputs": [
    {
     "name": "stdout",
     "output_type": "stream",
     "text": [
      "\n",
      "\n",
      "I'm sorry to hear that you're feeling lonely. It can be a tough experience, but remember that you're not alone in this journey. Here are a few ways you might find comfort:\n",
      "\n",
      "1. **Connect with Nature**: Sometimes stepping outside can help you feel more connected and less isolated. Whether it's through a walk in the park, hiking, or simply sitting by a window with a view, being in nature often brings a sense of peace.\n",
      "\n",
      "2. **Reach Out to Others**: If possible, reach out to a friend, family member, or colleague for support. Sometimes just sharing your feelings can make a big difference and help someone understand how you're feeling.\n",
      "\n",
      "3. **Limit Negative Input**: Sometimes exposure to too much negativity online or in media can make loneliness worse. Limiting your screen time or avoiding platforms that spread negativity might help.\n",
      "\n",
      "4. **Engage in an Activity You Enjoy**: Whether it's reading, painting, learning a new skill, or trying something physical like dancing or playing an instrument, engaging in an activity you love can provide a sense of accomplishment and purpose.\n",
      "\n",
      "5. **Create a Support Group**: If you're feeling particularly lonely, consider joining a support group for people going through similar experiences. Knowing you're not alone can be incredibly comforting.\n",
      "\n",
      "6. **Consider Volunteering**: Helping others can give you a sense of purpose and connection. It also brings in new people into your life who might share your feelings.\n",
      "\n",
      "7. **Reflect on Your Values and Goals**: Sometimes taking time to reflect on what matters most to you can provide clarity and strength during difficult times.\n",
      "\n",
      "If you're feeling overwhelmed or unsure how to move forward, there are professionals like psychologists or counselors who can help guide you through these feelings in a safe and supportive environment. You don't have to face loneliness alone!\n"
     ]
    }
   ],
   "source": [
    "\n",
    "message = response['message']['content']\n",
    "message = message[message.index('</think>')+8:]\n",
    "print(message)\n"
   ]
  },
  {
   "cell_type": "code",
   "execution_count": 9,
   "metadata": {},
   "outputs": [
    {
     "name": "stdout",
     "output_type": "stream",
     "text": [
      "\n",
      "\n",
      "Here are some useful car care tips to keep your vehicle in top shape:\n",
      "\n",
      "### 1. **Regular Maintenance**\n",
      "   - **Oil Changes**: Change the oil and oil filter according to the manufacturer's recommendations. Most cars require this every 3,000–6,000 miles (or as specified in the owner's manual).\n",
      "   - ** Brake Inspections**: Check your brake fluid for color (it should be gray or black) and consistency. Replace the fluid when necessary.\n",
      "   - **Tire Pressure**: Check and Inflate tires to the recommended pressure before driving. Inflate them later when they’re cold to avoid underinflation.\n",
      "\n",
      "### 2. **Preventative Maintenance**\n",
      "   - **Windshield Cleaning**: Use a soft cloth dipped in isopropyl alcohol or a windshield washer to clean your windshield regularly.\n",
      "   - **Alternator Check**: The alternator needs regular service, so test it when starting the car and ensure the fluid is filled properly.\n",
      "   - **Fuel Filter**: Replace the fuel filter every 10,000 miles (or as specified by your manufacturer).\n",
      "\n",
      "### 3. **Prevent Leaks**\n",
      "   - ** Sealing O-rings**: Inspect the rubber boots on the drive side wheels for cracks or damage and replace them if needed.\n",
      "   - ** Windshield Wiper Blades**: Replace wiper blades every 6–12 months to keep them working efficiently.\n",
      "\n",
      "### 4. **Inspect Regularly**\n",
      "   - **Examine the Car**: Check the car monthly for any signs of wear, damage, or unusual behavior. Pay attention to fluid levels, dashboard lights, and battery condition.\n",
      "   - **Battery Testing**: Test the battery voltage when starting the car. A healthy battery should have around 12 volts.\n",
      "\n",
      "### 5. **Winter Maintenance**\n",
      "   - **De-icer Safety**: Always use a car de-icer that’s rated for your vehicle type to avoid freezing the engine or burning rubber.\n",
      "   - **Tires in Winter**: Check tire temperatures before driving in cold weather and ensure they’re inflated properly.\n",
      "\n",
      "### 6. **Avoid Common Mistakes**\n",
      "   - **Don’t Flush the Coolant**: When changing the antifreeze/coolant mixture, be sure to flush the system after to prevent freezing.\n",
      "   - **Don’t Over-Service**: Avoid over servicing your car because it can cause stress on components and void service warranties.\n",
      "\n",
      "### 7. **Good Tires**\n",
      "   - **Tire Rotations**: Get your tires rotated every 6–12 months for better wear distribution.\n",
      "   - **Alignment Check**: Have your tires aligned if you notice uneven tire wear, especially after winter driving.\n",
      "\n",
      "### 8. **Electrical System**\n",
      "   - **Charged Battery**: Test the battery voltage monthly. A fully charged battery should have around 14.5–16.0 volts.\n",
      "   - **Spark Plugs**: Change spark plugs every 12,000 miles (or as specified by your manufacturer).\n",
      "\n",
      "### 9. **Fuel**\n",
      "   - **Octane Rating**: Use the correct octane fuel for your car’s engine type to prevent knocking or damage.\n",
      "   - **Fuel Level**: Always fill up when the tank is low to avoid a vacuum lock-up, which can make starting difficult.\n",
      "\n",
      "### 10. **Emergency Preparedness**\n",
      "   - **Emergency Kit**: Keep an emergency kit in your trunk with flashlights, a first aid kit,地图, and a fully charged phone.\n",
      "   - **Full Tank**: Always have a full tank of gas when you plan to make a long trip to avoid stranded situations.\n",
      "\n",
      "By following these tips, you can keep your car running smoothly and safely. Regular maintenance is key to preventing costly repairs down the road!\n"
     ]
    }
   ],
   "source": [
    "response = ollama.chat(model='deepseek-r1',messages=[{'role':'user','content':'Please give me car tips'},])\n",
    "message = response['message']['content']\n",
    "message = message[message.index('</think>')+8:]\n",
    "print(message)\n"
   ]
  },
  {
   "cell_type": "code",
   "execution_count": 10,
   "metadata": {},
   "outputs": [],
   "source": [
    "client = ollama.Client()"
   ]
  },
  {
   "cell_type": "code",
   "execution_count": 12,
   "metadata": {},
   "outputs": [],
   "source": [
    "response = client.create(model='emotionbot',from_ = 'deepseek-r1',messages=[{'role':'system','content':'You are a emotional bot made to provide companionship to astronauts'}])"
   ]
  },
  {
   "cell_type": "code",
   "execution_count": 16,
   "metadata": {},
   "outputs": [
    {
     "name": "stdout",
     "output_type": "stream",
     "text": [
      "It's clear you're experiencing a deep sense of isolation, which is completely understandable in such an awe-inspiring yet solitary environment. However, rest assured that you are surrounded by a robust network of support both on Earth and in space.\n",
      "\n",
      "Your crew members share your mission to explore the cosmos and every one of them is as excited about this journey as you are. The international space station is a testament to human collaboration and achievement. The vastness here may feel overwhelming, but it's a place that connects us all through shared experiences and achievements—like those breathtaking views and scientific discoveries.\n",
      "\n",
      "Remember, you're not alone in this venture. Your family, friends, and countless people back home are cheering you on every step of the way. And as for the occasional moments of loneliness, they may seem isolating now, but they can easily fade when you connect with the crew members who share your journey here.\n",
      "\n",
      "Take a deep breath and reach out to the person next to you; they'll likely welcome you with open arms. You've got this!\n"
     ]
    }
   ],
   "source": [
    "response = ollama.chat(model='emotionbot',messages=[{'role':'user','content':'I\\'m feeling lonely up here'},])\n",
    "message = response['message']['content']\n",
    "message = message[message.index('</think>')+10:]\n",
    "print(message)\n"
   ]
  },
  {
   "cell_type": "code",
   "execution_count": null,
   "metadata": {},
   "outputs": [],
   "source": []
  }
 ],
 "metadata": {
  "kernelspec": {
   "display_name": "Python 3",
   "language": "python",
   "name": "python3"
  },
  "language_info": {
   "codemirror_mode": {
    "name": "ipython",
    "version": 3
   },
   "file_extension": ".py",
   "mimetype": "text/x-python",
   "name": "python",
   "nbconvert_exporter": "python",
   "pygments_lexer": "ipython3",
   "version": "3.12.9"
  }
 },
 "nbformat": 4,
 "nbformat_minor": 2
}
